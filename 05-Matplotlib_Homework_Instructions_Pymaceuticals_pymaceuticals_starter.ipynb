{
 "cells": [
  {
   "cell_type": "markdown",
   "metadata": {},
   "source": [
    "## Observations and Insights"
   ]
  },
  {
   "cell_type": "markdown",
   "metadata": {},
   "source": [
    "- The two most promising drugs in the study are Capomulin and Ramicane, which have average tumor sizes of 40.68 mm^3 and 40.22 mm^3 respectively.  As a next step, the percent change in tumor volume might also be a useful parameter to look at.  For each drug, the final tumor volumes per mouse were analyzed.  No outliers were found for either drug.  This is surprising because the final tumor volume was included for all mice, even those that died before the final 45 day timepoint.  It was expected that those mice that perished early would result in final tumor volumes that were outliers on the upper boundaries.  It might be worth investigating common practices in animal studies to determine whether animals that died early in the study should be included in the final data.  Is there a threshold (time) that they must cross to be included in the study?\n",
    "\n",
    "\n",
    "\n",
    "- The total number of mice used in the study was 249, of which, 125 were male and 124 were female.  As a next step, it might be useful to look at the male/female distribution of mice per drug regimen.  Do regimens that are weighted more heavily toward male or female mice perform better or worse in the study.  For the most successful drugs in the study, is the percent change in the tumor size significantly greater for male versus female mice?\n",
    "\n",
    "\n",
    "\n",
    "- The two most successful drug regimens (Capomulin and Ramicane) also had the most number of total data points.  The remaining drug regimens all had roughly the same number of points, and this may be attributed to some mice dying early."
   ]
  },
  {
   "cell_type": "markdown",
   "metadata": {},
   "source": []
  },
  {
   "cell_type": "markdown",
   "metadata": {},
   "source": [
    "## Dependencies and starter code"
   ]
  },
  {
   "cell_type": "code",
   "execution_count": null,
   "metadata": {},
   "outputs": [],
   "source": []
  },
  {
   "cell_type": "code",
   "execution_count": 149,
   "metadata": {},
   "outputs": [],
   "source": [
    "%matplotlib inline"
   ]
  },
  {
   "cell_type": "code",
   "execution_count": 2,
   "metadata": {},
   "outputs": [],
   "source": [
    "# Dependencies and Setup\n",
    "import matplotlib.pyplot as plt\n",
    "import pandas as pd\n",
    "import scipy.stats as st\n",
    "import numpy as np\n",
    "\n",
    "# Study data files\n",
    "mouse_metadata = \"Mouse_metadata.csv\"\n",
    "study_results = \"Study_results.csv\"\n",
    "\n",
    "# Read the mouse data and the study results\n",
    "mouse_metadata = pd.read_csv(mouse_metadata)\n",
    "study_results = pd.read_csv(study_results)\n",
    "\n",
    "# Combine the data into a single dataset"
   ]
  },
  {
   "cell_type": "code",
   "execution_count": 3,
   "metadata": {
    "scrolled": true
   },
   "outputs": [
    {
     "data": {
      "text/html": [
       "<div>\n",
       "<style scoped>\n",
       "    .dataframe tbody tr th:only-of-type {\n",
       "        vertical-align: middle;\n",
       "    }\n",
       "\n",
       "    .dataframe tbody tr th {\n",
       "        vertical-align: top;\n",
       "    }\n",
       "\n",
       "    .dataframe thead th {\n",
       "        text-align: right;\n",
       "    }\n",
       "</style>\n",
       "<table border=\"1\" class=\"dataframe\">\n",
       "  <thead>\n",
       "    <tr style=\"text-align: right;\">\n",
       "      <th></th>\n",
       "      <th>Mouse ID</th>\n",
       "      <th>Drug Regimen</th>\n",
       "      <th>Sex</th>\n",
       "      <th>Age_months</th>\n",
       "      <th>Weight (g)</th>\n",
       "    </tr>\n",
       "  </thead>\n",
       "  <tbody>\n",
       "    <tr>\n",
       "      <th>0</th>\n",
       "      <td>k403</td>\n",
       "      <td>Ramicane</td>\n",
       "      <td>Male</td>\n",
       "      <td>21</td>\n",
       "      <td>16</td>\n",
       "    </tr>\n",
       "    <tr>\n",
       "      <th>1</th>\n",
       "      <td>s185</td>\n",
       "      <td>Capomulin</td>\n",
       "      <td>Female</td>\n",
       "      <td>3</td>\n",
       "      <td>17</td>\n",
       "    </tr>\n",
       "    <tr>\n",
       "      <th>2</th>\n",
       "      <td>x401</td>\n",
       "      <td>Capomulin</td>\n",
       "      <td>Female</td>\n",
       "      <td>16</td>\n",
       "      <td>15</td>\n",
       "    </tr>\n",
       "    <tr>\n",
       "      <th>3</th>\n",
       "      <td>m601</td>\n",
       "      <td>Capomulin</td>\n",
       "      <td>Male</td>\n",
       "      <td>22</td>\n",
       "      <td>17</td>\n",
       "    </tr>\n",
       "    <tr>\n",
       "      <th>4</th>\n",
       "      <td>g791</td>\n",
       "      <td>Ramicane</td>\n",
       "      <td>Male</td>\n",
       "      <td>11</td>\n",
       "      <td>16</td>\n",
       "    </tr>\n",
       "  </tbody>\n",
       "</table>\n",
       "</div>"
      ],
      "text/plain": [
       "  Mouse ID Drug Regimen     Sex  Age_months  Weight (g)\n",
       "0     k403     Ramicane    Male          21          16\n",
       "1     s185    Capomulin  Female           3          17\n",
       "2     x401    Capomulin  Female          16          15\n",
       "3     m601    Capomulin    Male          22          17\n",
       "4     g791     Ramicane    Male          11          16"
      ]
     },
     "execution_count": 3,
     "metadata": {},
     "output_type": "execute_result"
    }
   ],
   "source": [
    "mouse_metadata.head()"
   ]
  },
  {
   "cell_type": "code",
   "execution_count": 152,
   "metadata": {
    "scrolled": true
   },
   "outputs": [
    {
     "data": {
      "text/html": [
       "<div>\n",
       "<style scoped>\n",
       "    .dataframe tbody tr th:only-of-type {\n",
       "        vertical-align: middle;\n",
       "    }\n",
       "\n",
       "    .dataframe tbody tr th {\n",
       "        vertical-align: top;\n",
       "    }\n",
       "\n",
       "    .dataframe thead th {\n",
       "        text-align: right;\n",
       "    }\n",
       "</style>\n",
       "<table border=\"1\" class=\"dataframe\">\n",
       "  <thead>\n",
       "    <tr style=\"text-align: right;\">\n",
       "      <th></th>\n",
       "      <th>Mouse ID</th>\n",
       "      <th>Timepoint</th>\n",
       "      <th>Tumor Volume (mm3)</th>\n",
       "      <th>Metastatic Sites</th>\n",
       "    </tr>\n",
       "  </thead>\n",
       "  <tbody>\n",
       "    <tr>\n",
       "      <th>0</th>\n",
       "      <td>b128</td>\n",
       "      <td>0</td>\n",
       "      <td>45.0</td>\n",
       "      <td>0</td>\n",
       "    </tr>\n",
       "    <tr>\n",
       "      <th>1</th>\n",
       "      <td>f932</td>\n",
       "      <td>0</td>\n",
       "      <td>45.0</td>\n",
       "      <td>0</td>\n",
       "    </tr>\n",
       "    <tr>\n",
       "      <th>2</th>\n",
       "      <td>g107</td>\n",
       "      <td>0</td>\n",
       "      <td>45.0</td>\n",
       "      <td>0</td>\n",
       "    </tr>\n",
       "    <tr>\n",
       "      <th>3</th>\n",
       "      <td>a457</td>\n",
       "      <td>0</td>\n",
       "      <td>45.0</td>\n",
       "      <td>0</td>\n",
       "    </tr>\n",
       "    <tr>\n",
       "      <th>4</th>\n",
       "      <td>c819</td>\n",
       "      <td>0</td>\n",
       "      <td>45.0</td>\n",
       "      <td>0</td>\n",
       "    </tr>\n",
       "  </tbody>\n",
       "</table>\n",
       "</div>"
      ],
      "text/plain": [
       "  Mouse ID  Timepoint  Tumor Volume (mm3)  Metastatic Sites\n",
       "0     b128          0                45.0                 0\n",
       "1     f932          0                45.0                 0\n",
       "2     g107          0                45.0                 0\n",
       "3     a457          0                45.0                 0\n",
       "4     c819          0                45.0                 0"
      ]
     },
     "execution_count": 152,
     "metadata": {},
     "output_type": "execute_result"
    }
   ],
   "source": [
    "study_results.head()"
   ]
  },
  {
   "cell_type": "code",
   "execution_count": 21,
   "metadata": {},
   "outputs": [
    {
     "data": {
      "text/html": [
       "<div>\n",
       "<style scoped>\n",
       "    .dataframe tbody tr th:only-of-type {\n",
       "        vertical-align: middle;\n",
       "    }\n",
       "\n",
       "    .dataframe tbody tr th {\n",
       "        vertical-align: top;\n",
       "    }\n",
       "\n",
       "    .dataframe thead th {\n",
       "        text-align: right;\n",
       "    }\n",
       "</style>\n",
       "<table border=\"1\" class=\"dataframe\">\n",
       "  <thead>\n",
       "    <tr style=\"text-align: right;\">\n",
       "      <th></th>\n",
       "      <th>Mouse ID</th>\n",
       "      <th>Drug Regimen</th>\n",
       "      <th>Sex</th>\n",
       "      <th>Age_months</th>\n",
       "      <th>Weight (g)</th>\n",
       "      <th>Timepoint</th>\n",
       "      <th>Tumor Volume (mm3)</th>\n",
       "      <th>Metastatic Sites</th>\n",
       "    </tr>\n",
       "  </thead>\n",
       "  <tbody>\n",
       "    <tr>\n",
       "      <th>0</th>\n",
       "      <td>k403</td>\n",
       "      <td>Ramicane</td>\n",
       "      <td>Male</td>\n",
       "      <td>21</td>\n",
       "      <td>16</td>\n",
       "      <td>0</td>\n",
       "      <td>45.000000</td>\n",
       "      <td>0</td>\n",
       "    </tr>\n",
       "    <tr>\n",
       "      <th>1</th>\n",
       "      <td>k403</td>\n",
       "      <td>Ramicane</td>\n",
       "      <td>Male</td>\n",
       "      <td>21</td>\n",
       "      <td>16</td>\n",
       "      <td>5</td>\n",
       "      <td>38.825898</td>\n",
       "      <td>0</td>\n",
       "    </tr>\n",
       "    <tr>\n",
       "      <th>2</th>\n",
       "      <td>k403</td>\n",
       "      <td>Ramicane</td>\n",
       "      <td>Male</td>\n",
       "      <td>21</td>\n",
       "      <td>16</td>\n",
       "      <td>10</td>\n",
       "      <td>35.014271</td>\n",
       "      <td>1</td>\n",
       "    </tr>\n",
       "    <tr>\n",
       "      <th>3</th>\n",
       "      <td>k403</td>\n",
       "      <td>Ramicane</td>\n",
       "      <td>Male</td>\n",
       "      <td>21</td>\n",
       "      <td>16</td>\n",
       "      <td>15</td>\n",
       "      <td>34.223992</td>\n",
       "      <td>1</td>\n",
       "    </tr>\n",
       "    <tr>\n",
       "      <th>4</th>\n",
       "      <td>k403</td>\n",
       "      <td>Ramicane</td>\n",
       "      <td>Male</td>\n",
       "      <td>21</td>\n",
       "      <td>16</td>\n",
       "      <td>20</td>\n",
       "      <td>32.997729</td>\n",
       "      <td>1</td>\n",
       "    </tr>\n",
       "  </tbody>\n",
       "</table>\n",
       "</div>"
      ],
      "text/plain": [
       "  Mouse ID Drug Regimen   Sex  Age_months  Weight (g)  Timepoint  \\\n",
       "0     k403     Ramicane  Male          21          16          0   \n",
       "1     k403     Ramicane  Male          21          16          5   \n",
       "2     k403     Ramicane  Male          21          16         10   \n",
       "3     k403     Ramicane  Male          21          16         15   \n",
       "4     k403     Ramicane  Male          21          16         20   \n",
       "\n",
       "   Tumor Volume (mm3)  Metastatic Sites  \n",
       "0           45.000000                 0  \n",
       "1           38.825898                 0  \n",
       "2           35.014271                 1  \n",
       "3           34.223992                 1  \n",
       "4           32.997729                 1  "
      ]
     },
     "execution_count": 21,
     "metadata": {},
     "output_type": "execute_result"
    }
   ],
   "source": [
    "study_results_complete=pd.merge(mouse_metadata,study_results,on=\"Mouse ID\",how=\"inner\")\n",
    "study_results_complete.head()"
   ]
  },
  {
   "cell_type": "markdown",
   "metadata": {},
   "source": [
    "## Summary statistics"
   ]
  },
  {
   "cell_type": "code",
   "execution_count": null,
   "metadata": {},
   "outputs": [],
   "source": []
  },
  {
   "cell_type": "code",
   "execution_count": 154,
   "metadata": {},
   "outputs": [],
   "source": [
    "# Generate a summary statistics table of mean, median, variance, standard deviation, and SEM of the tumor volume for each regimen\n",
    "#see how many drug regimens existed\n",
    "drug_regimens=study_results_complete[\"Drug Regimen\"].unique()\n",
    "#group the data according to drug regimen\n",
    "grouped_results_regimen=study_results_complete.groupby(\"Drug Regimen\")\n",
    "#calculate the mean value of tumor size using these results\n",
    "mean_tumor_size=grouped_results_regimen[\"Tumor Volume (mm3)\"].mean()\n",
    "#calculate the median value of tumor size using these results\n",
    "median_tumor_size=grouped_results_regimen[\"Tumor Volume (mm3)\"].median()\n",
    "#calculate the variance of the tumor size \n",
    "variance_tumor_size=grouped_results_regimen[\"Tumor Volume (mm3)\"].var()\n",
    "#calculate the standard deviation of the tumor size \n",
    "stdev_tumor_size=grouped_results_regimen[\"Tumor Volume (mm3)\"].std()\n",
    "#calculate the SEM of the tumor volume\n",
    "sem_tumor_size=grouped_results_regimen[\"Tumor Volume (mm3)\"].sem()\n"
   ]
  },
  {
   "cell_type": "code",
   "execution_count": 601,
   "metadata": {},
   "outputs": [
    {
     "data": {
      "text/html": [
       "<div>\n",
       "<style scoped>\n",
       "    .dataframe tbody tr th:only-of-type {\n",
       "        vertical-align: middle;\n",
       "    }\n",
       "\n",
       "    .dataframe tbody tr th {\n",
       "        vertical-align: top;\n",
       "    }\n",
       "\n",
       "    .dataframe thead th {\n",
       "        text-align: right;\n",
       "    }\n",
       "</style>\n",
       "<table border=\"1\" class=\"dataframe\">\n",
       "  <thead>\n",
       "    <tr style=\"text-align: right;\">\n",
       "      <th></th>\n",
       "      <th>Average Tumor Volume (mm3)</th>\n",
       "      <th>Median Tumor Volume (mm3)</th>\n",
       "      <th>Average Tumor Volume (mm3)</th>\n",
       "      <th>Median Tumor Volume (mm3)</th>\n",
       "      <th>Tumor Volume (mm3)</th>\n",
       "    </tr>\n",
       "    <tr>\n",
       "      <th>Drug Regimen</th>\n",
       "      <th></th>\n",
       "      <th></th>\n",
       "      <th></th>\n",
       "      <th></th>\n",
       "      <th></th>\n",
       "    </tr>\n",
       "  </thead>\n",
       "  <tbody>\n",
       "    <tr>\n",
       "      <th>Capomulin</th>\n",
       "      <td>40.675741</td>\n",
       "      <td>41.557809</td>\n",
       "      <td>40.675741</td>\n",
       "      <td>41.557809</td>\n",
       "      <td>0.329346</td>\n",
       "    </tr>\n",
       "    <tr>\n",
       "      <th>Ceftamin</th>\n",
       "      <td>52.591172</td>\n",
       "      <td>51.776157</td>\n",
       "      <td>52.591172</td>\n",
       "      <td>51.776157</td>\n",
       "      <td>0.469821</td>\n",
       "    </tr>\n",
       "    <tr>\n",
       "      <th>Infubinol</th>\n",
       "      <td>52.884795</td>\n",
       "      <td>51.820584</td>\n",
       "      <td>52.884795</td>\n",
       "      <td>51.820584</td>\n",
       "      <td>0.492236</td>\n",
       "    </tr>\n",
       "    <tr>\n",
       "      <th>Ketapril</th>\n",
       "      <td>55.235638</td>\n",
       "      <td>53.698743</td>\n",
       "      <td>55.235638</td>\n",
       "      <td>53.698743</td>\n",
       "      <td>0.603860</td>\n",
       "    </tr>\n",
       "    <tr>\n",
       "      <th>Naftisol</th>\n",
       "      <td>54.331565</td>\n",
       "      <td>52.509285</td>\n",
       "      <td>54.331565</td>\n",
       "      <td>52.509285</td>\n",
       "      <td>0.596466</td>\n",
       "    </tr>\n",
       "    <tr>\n",
       "      <th>Placebo</th>\n",
       "      <td>54.033581</td>\n",
       "      <td>52.288934</td>\n",
       "      <td>54.033581</td>\n",
       "      <td>52.288934</td>\n",
       "      <td>0.581331</td>\n",
       "    </tr>\n",
       "    <tr>\n",
       "      <th>Propriva</th>\n",
       "      <td>52.322552</td>\n",
       "      <td>50.854632</td>\n",
       "      <td>52.322552</td>\n",
       "      <td>50.854632</td>\n",
       "      <td>0.512884</td>\n",
       "    </tr>\n",
       "    <tr>\n",
       "      <th>Ramicane</th>\n",
       "      <td>40.216745</td>\n",
       "      <td>40.673236</td>\n",
       "      <td>40.216745</td>\n",
       "      <td>40.673236</td>\n",
       "      <td>0.320955</td>\n",
       "    </tr>\n",
       "    <tr>\n",
       "      <th>Stelasyn</th>\n",
       "      <td>54.233149</td>\n",
       "      <td>52.431737</td>\n",
       "      <td>54.233149</td>\n",
       "      <td>52.431737</td>\n",
       "      <td>0.573111</td>\n",
       "    </tr>\n",
       "    <tr>\n",
       "      <th>Zoniferol</th>\n",
       "      <td>53.236507</td>\n",
       "      <td>51.818479</td>\n",
       "      <td>53.236507</td>\n",
       "      <td>51.818479</td>\n",
       "      <td>0.516398</td>\n",
       "    </tr>\n",
       "  </tbody>\n",
       "</table>\n",
       "</div>"
      ],
      "text/plain": [
       "              Average Tumor Volume (mm3)  Median Tumor Volume (mm3)  \\\n",
       "Drug Regimen                                                          \n",
       "Capomulin                      40.675741                  41.557809   \n",
       "Ceftamin                       52.591172                  51.776157   \n",
       "Infubinol                      52.884795                  51.820584   \n",
       "Ketapril                       55.235638                  53.698743   \n",
       "Naftisol                       54.331565                  52.509285   \n",
       "Placebo                        54.033581                  52.288934   \n",
       "Propriva                       52.322552                  50.854632   \n",
       "Ramicane                       40.216745                  40.673236   \n",
       "Stelasyn                       54.233149                  52.431737   \n",
       "Zoniferol                      53.236507                  51.818479   \n",
       "\n",
       "              Average Tumor Volume (mm3)  Median Tumor Volume (mm3)  \\\n",
       "Drug Regimen                                                          \n",
       "Capomulin                      40.675741                  41.557809   \n",
       "Ceftamin                       52.591172                  51.776157   \n",
       "Infubinol                      52.884795                  51.820584   \n",
       "Ketapril                       55.235638                  53.698743   \n",
       "Naftisol                       54.331565                  52.509285   \n",
       "Placebo                        54.033581                  52.288934   \n",
       "Propriva                       52.322552                  50.854632   \n",
       "Ramicane                       40.216745                  40.673236   \n",
       "Stelasyn                       54.233149                  52.431737   \n",
       "Zoniferol                      53.236507                  51.818479   \n",
       "\n",
       "              Tumor Volume (mm3)  \n",
       "Drug Regimen                      \n",
       "Capomulin               0.329346  \n",
       "Ceftamin                0.469821  \n",
       "Infubinol               0.492236  \n",
       "Ketapril                0.603860  \n",
       "Naftisol                0.596466  \n",
       "Placebo                 0.581331  \n",
       "Propriva                0.512884  \n",
       "Ramicane                0.320955  \n",
       "Stelasyn                0.573111  \n",
       "Zoniferol               0.516398  "
      ]
     },
     "execution_count": 601,
     "metadata": {},
     "output_type": "execute_result"
    }
   ],
   "source": [
    "#combine the information above into a dataframe\n",
    "\n",
    "#merge mean and median information\n",
    "summary_one=pd.merge(mean_tumor_size,median_tumor_size,on=\"Drug Regimen\",how=\"inner\")\n",
    "#reset index so that drug regimen becomes a column, then rename columns\n",
    "summary_two=summary_one.reset_index()\n",
    "summary_two=summary_two.rename(columns={\"Tumor Volume (mm3)_x\":\"Average Tumor Volume (mm3)\",\"Tumor Volume (mm3)_y\":\"Median Tumor Volume (mm3)\"})\n",
    "#merge variance and standard deviation information\n",
    "summary_three=pd.merge(variance_tumor_size,stdev_tumor_size,on=\"Drug Regimen\",how=\"inner\")\n",
    "#reset index so that drug regimen becomes a column, then rename columns\n",
    "summary_three.reset_index()\n",
    "summary_four=summary_two.rename(columns={\"Tumor Volume (mm3)_x\":\"Variance of Tumor Volume (mm3)\",\"Tumor Volume (mm3)_y\":\"Standard Deviation of Tumor Volume (mm3)\"})\n",
    "#merge df containing mean, median, stdev, variance\n",
    "summary_five=pd.merge(summary_two,summary_four,on=\"Drug Regimen\",how=\"inner\")\n",
    "#Finally, create a dataframe for the SEM values and merge that to form the final table\n",
    "summary_six=pd.DataFrame(sem_tumor_size)\n",
    "summary_six.reset_index().rename(columns={\"Tumor Volume (mm3)\":\"SEM of Tumor Volume (mm3)\"})\n",
    "summary_table=pd.merge(summary_five,summary_six,on=\"Drug Regimen\",how=\"inner\").rename(columns={\"Average Tumor Volume (mm3)_x\":\n",
    "                                                                                              \"Average Tumor Volume (mm3)\",\n",
    "                                                                                              \"Median Tumor Volume (mm3)_x\":\n",
    "                                                                                              \"Median Tumor Volume (mm3)\",\n",
    "                                                                                              \"Average Tumor Volume (mm3)_y\":\n",
    "                                                                                              \"Average Tumor Volume (mm3)\",\n",
    "                                                                                              \"Median Tumor Volume (mm3)_y\":\n",
    "                                                                                              \"Median Tumor Volume (mm3)\"})\n",
    "#set the Drug Regimen as the index value\n",
    "summary_table.set_index(\"Drug Regimen\")\n"
   ]
  },
  {
   "cell_type": "markdown",
   "metadata": {},
   "source": [
    "## Bar plots"
   ]
  },
  {
   "cell_type": "code",
   "execution_count": 156,
   "metadata": {},
   "outputs": [
    {
     "data": {
      "text/html": [
       "<div>\n",
       "<style scoped>\n",
       "    .dataframe tbody tr th:only-of-type {\n",
       "        vertical-align: middle;\n",
       "    }\n",
       "\n",
       "    .dataframe tbody tr th {\n",
       "        vertical-align: top;\n",
       "    }\n",
       "\n",
       "    .dataframe thead th {\n",
       "        text-align: right;\n",
       "    }\n",
       "</style>\n",
       "<table border=\"1\" class=\"dataframe\">\n",
       "  <thead>\n",
       "    <tr style=\"text-align: right;\">\n",
       "      <th></th>\n",
       "      <th>Total Data Points</th>\n",
       "    </tr>\n",
       "    <tr>\n",
       "      <th>Drug Regimen</th>\n",
       "      <th></th>\n",
       "    </tr>\n",
       "  </thead>\n",
       "  <tbody>\n",
       "    <tr>\n",
       "      <th>Capomulin</th>\n",
       "      <td>230</td>\n",
       "    </tr>\n",
       "    <tr>\n",
       "      <th>Ceftamin</th>\n",
       "      <td>178</td>\n",
       "    </tr>\n",
       "    <tr>\n",
       "      <th>Infubinol</th>\n",
       "      <td>178</td>\n",
       "    </tr>\n",
       "    <tr>\n",
       "      <th>Ketapril</th>\n",
       "      <td>188</td>\n",
       "    </tr>\n",
       "    <tr>\n",
       "      <th>Naftisol</th>\n",
       "      <td>186</td>\n",
       "    </tr>\n",
       "    <tr>\n",
       "      <th>Placebo</th>\n",
       "      <td>181</td>\n",
       "    </tr>\n",
       "    <tr>\n",
       "      <th>Propriva</th>\n",
       "      <td>161</td>\n",
       "    </tr>\n",
       "    <tr>\n",
       "      <th>Ramicane</th>\n",
       "      <td>228</td>\n",
       "    </tr>\n",
       "    <tr>\n",
       "      <th>Stelasyn</th>\n",
       "      <td>181</td>\n",
       "    </tr>\n",
       "    <tr>\n",
       "      <th>Zoniferol</th>\n",
       "      <td>182</td>\n",
       "    </tr>\n",
       "  </tbody>\n",
       "</table>\n",
       "</div>"
      ],
      "text/plain": [
       "              Total Data Points\n",
       "Drug Regimen                   \n",
       "Capomulin                   230\n",
       "Ceftamin                    178\n",
       "Infubinol                   178\n",
       "Ketapril                    188\n",
       "Naftisol                    186\n",
       "Placebo                     181\n",
       "Propriva                    161\n",
       "Ramicane                    228\n",
       "Stelasyn                    181\n",
       "Zoniferol                   182"
      ]
     },
     "execution_count": 156,
     "metadata": {},
     "output_type": "execute_result"
    }
   ],
   "source": [
    "#Calculate the number of points\n",
    "number_points_regimen=grouped_results_regimen[\"Mouse ID\"].count()\n",
    "number_points_regimen_df=pd.DataFrame(number_points_regimen).rename(columns={\"Mouse ID\":\"Total Data Points\"})\n",
    "number_points_regimen_df"
   ]
  },
  {
   "cell_type": "code",
   "execution_count": 182,
   "metadata": {
    "scrolled": true
   },
   "outputs": [
    {
     "data": {
      "text/plain": [
       "(0, 250)"
      ]
     },
     "execution_count": 182,
     "metadata": {},
     "output_type": "execute_result"
    },
    {
     "data": {
      "image/png": "[encoded data removed]",
      "text/plain": [
       "<Figure size 432x288 with 1 Axes>"
      ]
     },
     "metadata": {
      "needs_background": "light"
     },
     "output_type": "display_data"
    }
   ],
   "source": [
    "# Generate a bar plot showing number of data points for each treatment regimen using pandas\n",
    "datapoints_regimen=number_points_regimen_df.plot(kind=\"bar\",color='b',alpha=0.5,width=0.75)\n",
    "datapoints_regimen.set_xlabel(\"Drug Name\",weight=\"bold\")\n",
    "datapoints_regimen.set_ylabel(\"Number of Data Points\",weight=\"bold\")\n",
    "datapoints_regimen.set_title(\"Data Points Per Drug Regimen\",weight=\"bold\")\n",
    "datapoints_regimen.get_legend().remove()\n",
    "datapoints_regimen.set_xlim(-0.75,len(x_axis)-0.25)\n",
    "datapoints_regimen.set_ylim(0,max(number_points_series)+20)"
   ]
  },
  {
   "cell_type": "code",
   "execution_count": 158,
   "metadata": {},
   "outputs": [],
   "source": [
    "# Generate a bar plot showing number of data points for each treatment regimen using pyplot\n",
    "#x-axis categories\n",
    "number_points_drugs=number_points_regimen_df.reset_index()\n",
    "drug_names=number_points_drugs[\"Drug Regimen\"]\n",
    "#y-axis values\n",
    "number_points_series=pd.Series(number_points_regimen)\n",
    "#determine the length of the x-axis\n",
    "x_axis = np.arange(len(number_points_series))"
   ]
  },
  {
   "cell_type": "code",
   "execution_count": 180,
   "metadata": {
    "scrolled": true
   },
   "outputs": [
    {
     "data": {
      "text/plain": [
       "(0, 250)"
      ]
     },
     "execution_count": 180,
     "metadata": {},
     "output_type": "execute_result"
    },
    {
     "data": {
      "image/png": "[encoded data removed]",
      "text/plain": [
       "<Figure size 432x288 with 1 Axes>"
      ]
     },
     "metadata": {
      "needs_background": "light"
     },
     "output_type": "display_data"
    }
   ],
   "source": [
    "number_points_bar=plt.bar(x_axis,number_points_series,color='b',alpha=0.5,align=\"center\",width=0.75)\n",
    "tick_locations=[value for value in x_axis]\n",
    "plt.xticks(tick_locations,drug_names,rotation=90);\n",
    "plt.xlabel(\"Drug Name\",weight=\"bold\");\n",
    "plt.ylabel(\"Number of Data Points\",weight=\"bold\");\n",
    "plt.title(\"Data Points per Drug Regimen\",weight=\"bold\");\n",
    "plt.xlim(-0.75,len(x_axis)-0.25)\n",
    "plt.ylim(0,max(number_points_series)+20)\n",
    "#EXAMPLE:plt.figure(figsize=(18, 16), dpi= 80, facecolor='w', edgecolor='k')\n",
    "#plt.figure(figsize=(8,12));\n"
   ]
  },
  {
   "cell_type": "code",
   "execution_count": 139,
   "metadata": {},
   "outputs": [],
   "source": []
  },
  {
   "cell_type": "markdown",
   "metadata": {},
   "source": [
    "## Pie plots"
   ]
  },
  {
   "cell_type": "code",
   "execution_count": 17,
   "metadata": {
    "scrolled": true
   },
   "outputs": [
    {
     "data": {
      "text/html": [
       "<div>\n",
       "<style scoped>\n",
       "    .dataframe tbody tr th:only-of-type {\n",
       "        vertical-align: middle;\n",
       "    }\n",
       "\n",
       "    .dataframe tbody tr th {\n",
       "        vertical-align: top;\n",
       "    }\n",
       "\n",
       "    .dataframe thead th {\n",
       "        text-align: right;\n",
       "    }\n",
       "</style>\n",
       "<table border=\"1\" class=\"dataframe\">\n",
       "  <thead>\n",
       "    <tr style=\"text-align: right;\">\n",
       "      <th></th>\n",
       "      <th>Mouse ID</th>\n",
       "    </tr>\n",
       "    <tr>\n",
       "      <th>Sex</th>\n",
       "      <th></th>\n",
       "    </tr>\n",
       "  </thead>\n",
       "  <tbody>\n",
       "    <tr>\n",
       "      <th>Female</th>\n",
       "      <td>124</td>\n",
       "    </tr>\n",
       "    <tr>\n",
       "      <th>Male</th>\n",
       "      <td>125</td>\n",
       "    </tr>\n",
       "  </tbody>\n",
       "</table>\n",
       "</div>"
      ],
      "text/plain": [
       "        Mouse ID\n",
       "Sex             \n",
       "Female       124\n",
       "Male         125"
      ]
     },
     "execution_count": 17,
     "metadata": {},
     "output_type": "execute_result"
    }
   ],
   "source": [
    "mouse_data_grouped=mouse_metadata.groupby(\"Sex\")\n",
    "male_female_counts=mouse_data_grouped[\"Mouse ID\"].count()\n",
    "male_female_counts_df=pd.DataFrame(male_female)\n",
    "male_female_counts_df\n",
    "#total_mice=len(study_results_complete[\"Mouse ID\"].unique())\n",
    "#grouped_sex=study_results_unique_mouse.groupby(\"Sex\")\n",
    "#male_female_counts=grouped_sex[\"Mouse ID\"].count()\n",
    "#male_female_counts\n",
    "#male_female_counts_df=pd.DataFrame(male_female_counts)\n",
    "#male_female_counts_df\n"
   ]
  },
  {
   "cell_type": "code",
   "execution_count": 22,
   "metadata": {},
   "outputs": [],
   "source": [
    "#set parameters for the pie plot\n",
    "numbers=[125,124]\n",
    "labels=[\"Male\",\"Female\"]\n",
    "colors=[\"lightblue\",\"pink\"]\n",
    "explode=(0.1,0)"
   ]
  },
  {
   "cell_type": "code",
   "execution_count": 23,
   "metadata": {
    "scrolled": true
   },
   "outputs": [
    {
     "data": {
      "image/png": "[encoded data removed]",
      "text/plain": [
       "<Figure size 432x288 with 1 Axes>"
      ]
     },
     "metadata": {},
     "output_type": "display_data"
    }
   ],
   "source": [
    "# Generate a pie plot showing the distribution of female versus male mice using pandas\n",
    "#datapoints_regimen=number_points_regimen_df.plot(kind=\"bar\",color='b',alpha=0.5,width=0.75)\n",
    "male_female_pie=male_female_counts_df.plot.pie(y=\"Mouse ID\",explode=(0,0.1),legend=False,autopct = \"%.1f%%\",\n",
    "                                               startangle=270,colors=[\"pink\",\"lightblue\"],shadow=True)\n",
    "male_female_pie.axes.get_yaxis().set_visible(False)\n",
    "male_female_pie.set_title(\"Distribution of Male vs Female Mice\");"
   ]
  },
  {
   "cell_type": "code",
   "execution_count": 24,
   "metadata": {
    "scrolled": true
   },
   "outputs": [
    {
     "data": {
      "image/png": "[encoded data removed]",
      "text/plain": [
       "<Figure size 432x288 with 1 Axes>"
      ]
     },
     "metadata": {},
     "output_type": "display_data"
    }
   ],
   "source": [
    "# Generate a pie plot showing the distribution of female versus male mice using pyplot\n",
    "plt.pie(numbers,explode,labels=labels,colors=colors,autopct=\"%1.1f%%\",shadow=True,startangle=90);\n",
    "plt.title(\"Distribution of Male vs Female Mice\");\n"
   ]
  },
  {
   "cell_type": "markdown",
   "metadata": {},
   "source": [
    "## Quartiles, outliers and boxplots"
   ]
  },
  {
   "cell_type": "markdown",
   "metadata": {},
   "source": [
    "**Note:  Final boxplot containing all four drug regimens is shown below the individual analysis for the the drugs**"
   ]
  },
  {
   "cell_type": "markdown",
   "metadata": {},
   "source": [
    "# Capomulin"
   ]
  },
  {
   "cell_type": "code",
   "execution_count": 578,
   "metadata": {
    "scrolled": false
   },
   "outputs": [],
   "source": [
    "#answering the question:  Did all the mice last 45 days?  Answer is NO!!\n",
    "capomulin=study_results_complete.loc[(study_results_complete[\"Drug Regimen\"]==\"Capomulin\")]\n",
    "\n",
    "#counts are different\n",
    "capomulin_grouped=capomulin.groupby(\"Timepoint\")\n",
    "time_counts=capomulin_grouped[\"Mouse ID\"].count()\n",
    "\n",
    "#capomulin.head(30)"
   ]
  },
  {
   "cell_type": "code",
   "execution_count": 552,
   "metadata": {},
   "outputs": [],
   "source": [
    "#Group the capomulin data by Mouse ID\n",
    "capomulin_mouse_grouped=capomulin.groupby(\"Mouse ID\")\n",
    "#calculate the max timepoint, index is mouse ID, and column value is max timepoint\n",
    "max_tp_capomulin=capomulin_mouse_grouped[\"Timepoint\"].max()"
   ]
  },
  {
   "cell_type": "code",
   "execution_count": 577,
   "metadata": {},
   "outputs": [],
   "source": [
    "tumor_size= pd.DataFrame()\n",
    "\n",
    "for idx in max_tp_capomulin.index:\n",
    "    tumor_row=capomulin.loc[(capomulin[\"Mouse ID\"]==idx)&(capomulin[\"Timepoint\"]==max_tp_capomulin[idx])]\n",
    "    tumor_size = tumor_size.append(pd.DataFrame(tumor_row[\"Tumor Volume (mm3)\"]))\n",
    "\n",
    "#tumor_size"
   ]
  },
  {
   "cell_type": "code",
   "execution_count": 606,
   "metadata": {
    "scrolled": true
   },
   "outputs": [
    {
     "data": {
      "image/png": "[encoded data removed]",
      "text/plain": [
       "<Figure size 432x288 with 1 Axes>"
      ]
     },
     "metadata": {
      "needs_background": "light"
     },
     "output_type": "display_data"
    }
   ],
   "source": [
    "# Calculate the final tumor volume of each mouse across four of the most promising treatment regimens. Calculate the IQR and quantitatively determine if there are any potential outliers.\n",
    "fig1, ax1 = plt.subplots()\n",
    "ax1.set_title('Final Tumor Size (mm3): Capomulin',weight=\"bold\")\n",
    "ax1.set_ylabel('Tumor Size (mm3)')\n",
    "ax1.boxplot(tumor_size[\"Tumor Volume (mm3)\"])\n",
    "plt.show()\n",
    "\n"
   ]
  },
  {
   "cell_type": "code",
   "execution_count": 625,
   "metadata": {},
   "outputs": [
    {
     "name": "stdout",
     "output_type": "stream",
     "text": [
      "The lower quartile of tumor size is: 32.37735684\n",
      "The upper quartile of tumor size is: 40.1592203\n",
      "The interquartile range of tumor size is: 7.781863460000004\n",
      "The the median of tumor size is: 38.125164399999996 \n",
      "Values below 20.70456164999999 could be outliers.\n",
      "Values above 51.83201549 could be outliers.\n"
     ]
    }
   ],
   "source": [
    "#If the data is in a dataframe, we use pandas to give quartile calculations\n",
    "quartiles = tumor_size[\"Tumor Volume (mm3)\"].quantile([.25,.5,.75])\n",
    "lowerq = quartiles[0.25]\n",
    "upperq = quartiles[0.75]\n",
    "iqr = upperq-lowerq\n",
    "\n",
    "print(f\"The lower quartile of tumor size is: {lowerq}\")\n",
    "print(f\"The upper quartile of tumor size is: {upperq}\")\n",
    "print(f\"The interquartile range of tumor size is: {iqr}\")\n",
    "print(f\"The the median of tumor size is: {quartiles[0.5]} \")\n",
    "\n",
    "lower_bound = lowerq - (1.5*iqr)\n",
    "upper_bound = upperq + (1.5*iqr)\n",
    "print(f\"Values below {lower_bound} could be outliers.\")\n",
    "print(f\"Values above {upper_bound} could be outliers.\")\n",
    "                   "
   ]
  },
  {
   "cell_type": "code",
   "execution_count": 629,
   "metadata": {},
   "outputs": [],
   "source": [
    "tumor_size_sorted=tumor_size[\"Tumor Volume (mm3)\"].sort_values(ascending=False)\n",
    "capomulin_outliers=tumor_size.loc[(tumor_size[\"Tumor Volume (mm3)\"]<lower_bound)|(tumor_size[\"Tumor Volume (mm3)\"]>upper_bound)]\n",
    "#capomulin_outliers\n",
    "#capomulin_tumor_sorted\n"
   ]
  },
  {
   "cell_type": "markdown",
   "metadata": {},
   "source": [
    "# Ramicane"
   ]
  },
  {
   "cell_type": "code",
   "execution_count": 582,
   "metadata": {},
   "outputs": [],
   "source": [
    "#isolate all of the data for the drug Ramicane\n",
    "ramicane=study_results_complete.loc[(study_results_complete[\"Drug Regimen\"]==\"Ramicane\")]\n",
    "#Group the Ramicane data by Mouse ID\n",
    "ramicane_mouse_grouped=ramicane.groupby(\"Mouse ID\")\n",
    "#calculate the max timepoint, index is mouse ID, and column value is max timepoint\n",
    "max_tp_ramicane=ramicane_mouse_grouped[\"Timepoint\"].max()\n",
    "#ramicane.head()\n",
    "#max_tp_ramicane"
   ]
  },
  {
   "cell_type": "code",
   "execution_count": 591,
   "metadata": {},
   "outputs": [],
   "source": [
    "ramicane_tumor= pd.DataFrame()\n",
    "\n",
    "for idx in max_tp_ramicane.index:\n",
    "    tumor_row=ramicane.loc[(ramicane[\"Mouse ID\"]==idx)&(ramicane[\"Timepoint\"]==max_tp_ramicane[idx])]\n",
    "    ramicane_tumor = ramicane_tumor.append(pd.DataFrame(tumor_row[\"Tumor Volume (mm3)\"]))\n",
    "\n",
    "#ramicane_tumor.head()\n"
   ]
  },
  {
   "cell_type": "code",
   "execution_count": 590,
   "metadata": {
    "scrolled": true
   },
   "outputs": [
    {
     "data": {
      "image/png": "[encoded data removed]",
      "text/plain": [
       "<Figure size 432x288 with 1 Axes>"
      ]
     },
     "metadata": {
      "needs_background": "light"
     },
     "output_type": "display_data"
    }
   ],
   "source": [
    "# Calculate the final tumor volume of each mouse across four of the most promising treatment regimens. Calculate the IQR and quantitatively determine if there are any potential outliers.\n",
    "#ramicane_data=ramicane_tumor\n",
    "fig1, ax1 = plt.subplots()\n",
    "ax1.set_title('Final Tumor Size (mm3): Capomulin',weight=\"bold\")\n",
    "ax1.set_ylabel('Tumor Size (mm3)')\n",
    "ax1.boxplot(ramicane_tumor[\"Tumor Volume (mm3)\"])\n",
    "plt.show()"
   ]
  },
  {
   "cell_type": "code",
   "execution_count": 622,
   "metadata": {},
   "outputs": [
    {
     "name": "stdout",
     "output_type": "stream",
     "text": [
      "The lower quartile of tumor size is: 31.56046955\n",
      "The upper quartile of tumor size is: 40.65900627\n",
      "The interquartile range of tumor size is: 9.098536719999998\n",
      "The the median of tumor size is: 36.56165229 \n",
      "Values below 17.912664470000003 could be outliers.\n",
      "Values above 54.30681135 could be outliers.\n"
     ]
    }
   ],
   "source": [
    "#If the data is in a dataframe, we use pandas to give quartile calculations\n",
    "quartiles = ramicane_tumor[\"Tumor Volume (mm3)\"].quantile([.25,.5,.75])\n",
    "lowerq = quartiles[0.25]\n",
    "upperq = quartiles[0.75]\n",
    "iqr = upperq-lowerq\n",
    "\n",
    "print(f\"The lower quartile of tumor size is: {lowerq}\")\n",
    "print(f\"The upper quartile of tumor size is: {upperq}\")\n",
    "print(f\"The interquartile range of tumor size is: {iqr}\")\n",
    "print(f\"The the median of tumor size is: {quartiles[0.5]} \")\n",
    "\n",
    "lower_bound = lowerq - (1.5*iqr)\n",
    "upper_bound = upperq + (1.5*iqr)\n",
    "print(f\"Values below {lower_bound} could be outliers.\")\n",
    "print(f\"Values above {upper_bound} could be outliers.\")\n",
    "                   "
   ]
  },
  {
   "cell_type": "code",
   "execution_count": 624,
   "metadata": {},
   "outputs": [],
   "source": [
    "ramicane_tumor_sorted=ramicane_tumor[\"Tumor Volume (mm3)\"].sort_values(ascending=False)\n",
    "ramicane_outliers=ramicane_tumor.loc[(ramicane_tumor[\"Tumor Volume (mm3)\"]<lower_bound)|(ramicane_tumor[\"Tumor Volume (mm3)\"]>upper_bound)]\n",
    "#ramicane_outliers\n",
    "#ramicane_tumor_sorted\n"
   ]
  },
  {
   "cell_type": "markdown",
   "metadata": {},
   "source": [
    "# Propriva"
   ]
  },
  {
   "cell_type": "code",
   "execution_count": 596,
   "metadata": {},
   "outputs": [],
   "source": [
    "#isolate all of the data for the drug Propriva\n",
    "propriva=study_results_complete.loc[(study_results_complete[\"Drug Regimen\"]==\"Propriva\")]\n",
    "#Group the Propriva data by Mouse ID\n",
    "propriva_mouse_grouped=propriva.groupby(\"Mouse ID\")\n",
    "#calculate the max timepoint, index is mouse ID, and column value is max timepoint\n",
    "max_tp_propriva=propriva_mouse_grouped[\"Timepoint\"].max()\n",
    "#propriva.head()\n",
    "#max_tp_propriva"
   ]
  },
  {
   "cell_type": "code",
   "execution_count": 599,
   "metadata": {
    "scrolled": true
   },
   "outputs": [],
   "source": [
    "propriva_tumor= pd.DataFrame()\n",
    "\n",
    "for idx in max_tp_propriva.index:\n",
    "    tumor_row=propriva.loc[(propriva[\"Mouse ID\"]==idx)&(propriva[\"Timepoint\"]==max_tp_propriva[idx])]\n",
    "    propriva_tumor = propriva_tumor.append(pd.DataFrame(tumor_row[\"Tumor Volume (mm3)\"]))\n",
    "\n",
    "#propriva_tumor.head()\n"
   ]
  },
  {
   "cell_type": "code",
   "execution_count": 600,
   "metadata": {
    "scrolled": true
   },
   "outputs": [
    {
     "data": {
      "image/png": "[encoded data removed]",
      "text/plain": [
       "<Figure size 432x288 with 1 Axes>"
      ]
     },
     "metadata": {
      "needs_background": "light"
     },
     "output_type": "display_data"
    }
   ],
   "source": [
    "# Calculate the final tumor volume of each mouse across four of the most promising treatment regimens. Calculate the IQR and quantitatively determine if there are any potential outliers.\n",
    "#propriva_data=propriva_tumor\n",
    "fig1, ax1 = plt.subplots()\n",
    "ax1.set_title('Final Tumor Size (mm3): Propriva',weight=\"bold\")\n",
    "ax1.set_ylabel('Tumor Size (mm3)')\n",
    "ax1.boxplot(propriva_tumor[\"Tumor Volume (mm3)\"])\n",
    "plt.show()"
   ]
  },
  {
   "cell_type": "code",
   "execution_count": 616,
   "metadata": {},
   "outputs": [
    {
     "name": "stdout",
     "output_type": "stream",
     "text": [
      "The lower quartile of tumor size is: 49.12296898\n",
      "The upper quartile of tumor size is: 62.57087961\n",
      "The interquartile range of tumor size is: 13.447910629999996\n",
      "The the median of tumor size is: 55.84141007 \n",
      "Values below 28.95110303500001 could be outliers.\n",
      "Values above 82.742745555 could be outliers.\n"
     ]
    }
   ],
   "source": [
    "#If the data is in a dataframe, we use pandas to give quartile calculations\n",
    "quartiles = propriva_tumor[\"Tumor Volume (mm3)\"].quantile([.25,.5,.75])\n",
    "lowerq = quartiles[0.25]\n",
    "upperq = quartiles[0.75]\n",
    "iqr = upperq-lowerq\n",
    "\n",
    "print(f\"The lower quartile of tumor size is: {lowerq}\")\n",
    "print(f\"The upper quartile of tumor size is: {upperq}\")\n",
    "print(f\"The interquartile range of tumor size is: {iqr}\")\n",
    "print(f\"The the median of tumor size is: {quartiles[0.5]} \")\n",
    "\n",
    "lower_bound = lowerq - (1.5*iqr)\n",
    "upper_bound = upperq + (1.5*iqr)\n",
    "print(f\"Values below {lower_bound} could be outliers.\")\n",
    "print(f\"Values above {upper_bound} could be outliers.\")"
   ]
  },
  {
   "cell_type": "code",
   "execution_count": 621,
   "metadata": {},
   "outputs": [],
   "source": [
    "propriva_tumor_sorted=propriva_tumor[\"Tumor Volume (mm3)\"].sort_values(ascending=False)\n",
    "propriva_outliers=propriva_tumor.loc[(propriva_tumor[\"Tumor Volume (mm3)\"]<lower_bound)|(propriva_tumor[\"Tumor Volume (mm3)\"]>upper_bound)]\n",
    "#ceftamin_outliers\n",
    "#ceftamin_tumor_sorted\n"
   ]
  },
  {
   "cell_type": "markdown",
   "metadata": {},
   "source": [
    "# Ceftamin"
   ]
  },
  {
   "cell_type": "code",
   "execution_count": 603,
   "metadata": {
    "scrolled": true
   },
   "outputs": [],
   "source": [
    "#isolate all of the data for the drug ceftamin\n",
    "ceftamin=study_results_complete.loc[(study_results_complete[\"Drug Regimen\"]==\"Ceftamin\")]\n",
    "#Group the ceftamin data by Mouse ID\n",
    "ceftamin_mouse_grouped=ceftamin.groupby(\"Mouse ID\")\n",
    "#calculate the max timepoint, index is mouse ID, and column value is max timepoint\n",
    "max_tp_ceftamin=ceftamin_mouse_grouped[\"Timepoint\"].max()\n",
    "#ceftamin.head()\n",
    "#max_tp_ceftamin"
   ]
  },
  {
   "cell_type": "code",
   "execution_count": 604,
   "metadata": {},
   "outputs": [],
   "source": [
    "ceftamin_tumor= pd.DataFrame()\n",
    "\n",
    "for idx in max_tp_ceftamin.index:\n",
    "    tumor_row=ceftamin.loc[(ceftamin[\"Mouse ID\"]==idx)&(ceftamin[\"Timepoint\"]==max_tp_ceftamin[idx])]\n",
    "    ceftamin_tumor = ceftamin_tumor.append(pd.DataFrame(tumor_row[\"Tumor Volume (mm3)\"]))\n",
    "\n",
    "#ceftamin_tumor.head()"
   ]
  },
  {
   "cell_type": "code",
   "execution_count": 605,
   "metadata": {},
   "outputs": [
    {
     "data": {
      "image/png": "[encoded data removed]",
      "text/plain": [
       "<Figure size 432x288 with 1 Axes>"
      ]
     },
     "metadata": {
      "needs_background": "light"
     },
     "output_type": "display_data"
    }
   ],
   "source": [
    "# Calculate the final tumor volume of each mouse across four of the most promising treatment regimens. Calculate the IQR and quantitatively determine if there are any potential outliers.\n",
    "#ceftamin_data=propriva_tumor\n",
    "fig1, ax1 = plt.subplots()\n",
    "ax1.set_title('Final Tumor Size (mm3): Ceftamin',weight=\"bold\")\n",
    "ax1.set_ylabel('Tumor Size (mm3)')\n",
    "ax1.boxplot(ceftamin_tumor[\"Tumor Volume (mm3)\"])\n",
    "plt.show()"
   ]
  },
  {
   "cell_type": "code",
   "execution_count": null,
   "metadata": {},
   "outputs": [],
   "source": []
  },
  {
   "cell_type": "code",
   "execution_count": 609,
   "metadata": {
    "scrolled": true
   },
   "outputs": [
    {
     "name": "stdout",
     "output_type": "stream",
     "text": [
      "The lower quartile of temperatures is: 48.72207785\n",
      "The upper quartile of temperatures is: 64.29983003\n",
      "The interquartile range of temperatures is: 15.577752179999997\n",
      "The the median of temperatures is: 59.85195552 \n",
      "Values below 25.355449580000002 could be outliers.\n",
      "Values above 87.66645829999999 could be outliers.\n"
     ]
    }
   ],
   "source": [
    "#If the data is in a dataframe, we use pandas to give quartile calculations\n",
    "quartiles = ceftamin_tumor[\"Tumor Volume (mm3)\"].quantile([.25,.5,.75])\n",
    "lowerq = quartiles[0.25]\n",
    "upperq = quartiles[0.75]\n",
    "iqr = upperq-lowerq\n",
    "\n",
    "print(f\"The lower quartile of tumor size is: {lowerq}\")\n",
    "print(f\"The upper quartile of tumor size is: {upperq}\")\n",
    "print(f\"The interquartile range of tumor size is: {iqr}\")\n",
    "print(f\"The the median of tumor size is: {quartiles[0.5]} \")\n",
    "\n",
    "lower_bound = lowerq - (1.5*iqr)\n",
    "upper_bound = upperq + (1.5*iqr)\n",
    "print(f\"Values below {lower_bound} could be outliers.\")\n",
    "print(f\"Values above {upper_bound} could be outliers.\")"
   ]
  },
  {
   "cell_type": "code",
   "execution_count": 615,
   "metadata": {
    "scrolled": true
   },
   "outputs": [],
   "source": [
    "ceftamin_tumor_sorted=ceftamin_tumor[\"Tumor Volume (mm3)\"].sort_values(ascending=False)\n",
    "ceftamin_outliers=ceftamin_tumor.loc[(ceftamin_tumor[\"Tumor Volume (mm3)\"]<lower_bound)|(ceftamin_tumor[\"Tumor Volume (mm3)\"]>upper_bound)]\n",
    "#ceftamin_outliers\n",
    "#ceftamin_tumor_sorted\n"
   ]
  },
  {
   "cell_type": "code",
   "execution_count": 633,
   "metadata": {
    "scrolled": false
   },
   "outputs": [
    {
     "data": {
      "image/png": "[encoded data removed]",
      "text/plain": [
       "<Figure size 432x288 with 1 Axes>"
      ]
     },
     "metadata": {
      "needs_background": "light"
     },
     "output_type": "display_data"
    }
   ],
   "source": [
    "# Generate a box plot of the final tumor volume of each mouse across four regimens of interest\n",
    "fig1, ax1 = plt.subplots()\n",
    "ax1.set_title('Final Tumor Size (mm3): Capomulin, Ramicane, Propriva, Ceftamin',weight=\"bold\")\n",
    "ax1.set_ylabel('Tumor Size (mm3)')\n",
    "ax1.boxplot([tumor_size[\"Tumor Volume (mm3)\"],ramicane_tumor[\"Tumor Volume (mm3)\"],propriva_tumor[\"Tumor Volume (mm3)\"],ceftamin_tumor[\"Tumor Volume (mm3)\"]])\n",
    "plt.xticks([1, 2, 3,4], ['Capomulin', 'Ramicane', 'Propriva','Ceftamin'])\n",
    "\n",
    "plt.show()\n"
   ]
  },
  {
   "cell_type": "markdown",
   "metadata": {},
   "source": [
    "## Line and scatter plots"
   ]
  },
  {
   "cell_type": "code",
   "execution_count": 359,
   "metadata": {},
   "outputs": [
    {
     "data": {
      "text/html": [
       "<div>\n",
       "<style scoped>\n",
       "    .dataframe tbody tr th:only-of-type {\n",
       "        vertical-align: middle;\n",
       "    }\n",
       "\n",
       "    .dataframe tbody tr th {\n",
       "        vertical-align: top;\n",
       "    }\n",
       "\n",
       "    .dataframe thead th {\n",
       "        text-align: right;\n",
       "    }\n",
       "</style>\n",
       "<table border=\"1\" class=\"dataframe\">\n",
       "  <thead>\n",
       "    <tr style=\"text-align: right;\">\n",
       "      <th></th>\n",
       "      <th>Mouse ID</th>\n",
       "      <th>Drug Regimen</th>\n",
       "      <th>Sex</th>\n",
       "      <th>Age_months</th>\n",
       "      <th>Weight (g)</th>\n",
       "      <th>Timepoint</th>\n",
       "      <th>Tumor Volume (mm3)</th>\n",
       "      <th>Metastatic Sites</th>\n",
       "    </tr>\n",
       "  </thead>\n",
       "  <tbody>\n",
       "    <tr>\n",
       "      <th>10</th>\n",
       "      <td>s185</td>\n",
       "      <td>Capomulin</td>\n",
       "      <td>Female</td>\n",
       "      <td>3</td>\n",
       "      <td>17</td>\n",
       "      <td>0</td>\n",
       "      <td>45.000000</td>\n",
       "      <td>0</td>\n",
       "    </tr>\n",
       "    <tr>\n",
       "      <th>11</th>\n",
       "      <td>s185</td>\n",
       "      <td>Capomulin</td>\n",
       "      <td>Female</td>\n",
       "      <td>3</td>\n",
       "      <td>17</td>\n",
       "      <td>5</td>\n",
       "      <td>43.878496</td>\n",
       "      <td>0</td>\n",
       "    </tr>\n",
       "    <tr>\n",
       "      <th>12</th>\n",
       "      <td>s185</td>\n",
       "      <td>Capomulin</td>\n",
       "      <td>Female</td>\n",
       "      <td>3</td>\n",
       "      <td>17</td>\n",
       "      <td>10</td>\n",
       "      <td>37.614948</td>\n",
       "      <td>0</td>\n",
       "    </tr>\n",
       "    <tr>\n",
       "      <th>13</th>\n",
       "      <td>s185</td>\n",
       "      <td>Capomulin</td>\n",
       "      <td>Female</td>\n",
       "      <td>3</td>\n",
       "      <td>17</td>\n",
       "      <td>15</td>\n",
       "      <td>38.177232</td>\n",
       "      <td>0</td>\n",
       "    </tr>\n",
       "    <tr>\n",
       "      <th>14</th>\n",
       "      <td>s185</td>\n",
       "      <td>Capomulin</td>\n",
       "      <td>Female</td>\n",
       "      <td>3</td>\n",
       "      <td>17</td>\n",
       "      <td>20</td>\n",
       "      <td>36.866876</td>\n",
       "      <td>0</td>\n",
       "    </tr>\n",
       "    <tr>\n",
       "      <th>15</th>\n",
       "      <td>s185</td>\n",
       "      <td>Capomulin</td>\n",
       "      <td>Female</td>\n",
       "      <td>3</td>\n",
       "      <td>17</td>\n",
       "      <td>25</td>\n",
       "      <td>33.949940</td>\n",
       "      <td>0</td>\n",
       "    </tr>\n",
       "    <tr>\n",
       "      <th>16</th>\n",
       "      <td>s185</td>\n",
       "      <td>Capomulin</td>\n",
       "      <td>Female</td>\n",
       "      <td>3</td>\n",
       "      <td>17</td>\n",
       "      <td>30</td>\n",
       "      <td>32.959671</td>\n",
       "      <td>1</td>\n",
       "    </tr>\n",
       "    <tr>\n",
       "      <th>17</th>\n",
       "      <td>s185</td>\n",
       "      <td>Capomulin</td>\n",
       "      <td>Female</td>\n",
       "      <td>3</td>\n",
       "      <td>17</td>\n",
       "      <td>35</td>\n",
       "      <td>28.328531</td>\n",
       "      <td>1</td>\n",
       "    </tr>\n",
       "    <tr>\n",
       "      <th>18</th>\n",
       "      <td>s185</td>\n",
       "      <td>Capomulin</td>\n",
       "      <td>Female</td>\n",
       "      <td>3</td>\n",
       "      <td>17</td>\n",
       "      <td>40</td>\n",
       "      <td>25.472143</td>\n",
       "      <td>1</td>\n",
       "    </tr>\n",
       "    <tr>\n",
       "      <th>19</th>\n",
       "      <td>s185</td>\n",
       "      <td>Capomulin</td>\n",
       "      <td>Female</td>\n",
       "      <td>3</td>\n",
       "      <td>17</td>\n",
       "      <td>45</td>\n",
       "      <td>23.343598</td>\n",
       "      <td>1</td>\n",
       "    </tr>\n",
       "  </tbody>\n",
       "</table>\n",
       "</div>"
      ],
      "text/plain": [
       "   Mouse ID Drug Regimen     Sex  Age_months  Weight (g)  Timepoint  \\\n",
       "10     s185    Capomulin  Female           3          17          0   \n",
       "11     s185    Capomulin  Female           3          17          5   \n",
       "12     s185    Capomulin  Female           3          17         10   \n",
       "13     s185    Capomulin  Female           3          17         15   \n",
       "14     s185    Capomulin  Female           3          17         20   \n",
       "15     s185    Capomulin  Female           3          17         25   \n",
       "16     s185    Capomulin  Female           3          17         30   \n",
       "17     s185    Capomulin  Female           3          17         35   \n",
       "18     s185    Capomulin  Female           3          17         40   \n",
       "19     s185    Capomulin  Female           3          17         45   \n",
       "\n",
       "    Tumor Volume (mm3)  Metastatic Sites  \n",
       "10           45.000000                 0  \n",
       "11           43.878496                 0  \n",
       "12           37.614948                 0  \n",
       "13           38.177232                 0  \n",
       "14           36.866876                 0  \n",
       "15           33.949940                 0  \n",
       "16           32.959671                 1  \n",
       "17           28.328531                 1  \n",
       "18           25.472143                 1  \n",
       "19           23.343598                 1  "
      ]
     },
     "execution_count": 359,
     "metadata": {},
     "output_type": "execute_result"
    }
   ],
   "source": [
    "#isolate data for specific drug (Capomulin) and specific mouse (s185)\n",
    "capomulin_mouse=study_results_complete.loc[(study_results_complete[\"Drug Regimen\"]==\"Capomulin\")&(study_results_complete[\"Mouse ID\"]==\"s185\")]\n",
    "capomulin_mouse"
   ]
  },
  {
   "cell_type": "code",
   "execution_count": 360,
   "metadata": {
    "scrolled": true
   },
   "outputs": [
    {
     "data": {
      "image/png": "[encoded data removed]",
      "text/plain": [
       "<Figure size 432x288 with 1 Axes>"
      ]
     },
     "metadata": {
      "needs_background": "light"
     },
     "output_type": "display_data"
    }
   ],
   "source": [
    "# Generate a line plot of time point versus tumor volume for a mouse treated with Capomulin\n",
    "timepoint_x=capomulin_mouse[\"Timepoint\"]\n",
    "tumorsize_y=capomulin_mouse[\"Tumor Volume (mm3)\"]\n",
    "plt.plot(timepoint_x,tumorsize_y);\n",
    "plt.xlabel(\"Timepoint (days)\",weight=\"bold\");\n",
    "plt.ylabel(\"Tumor Size (mm3)\",weight=\"bold\");\n",
    "plt.title(\"Tumor Size Over Time for Mouse: s185\",weight=\"bold\");"
   ]
  },
  {
   "cell_type": "code",
   "execution_count": 405,
   "metadata": {},
   "outputs": [],
   "source": [
    "# Generate a scatter plot of mouse weight versus average tumor volume for the Capomulin regimen\n",
    "%matplotlib inline\n",
    "from scipy.stats import linregress"
   ]
  },
  {
   "cell_type": "code",
   "execution_count": 406,
   "metadata": {},
   "outputs": [],
   "source": [
    "# Generate a scatter plot of mouse weight versus average tumor volume for the Capomulin regimen\n",
    "#group capomulin datafram by mouse id \n",
    "mouse_grouped=capomulin.groupby(\"Mouse ID\")\n",
    "#create a series for the weight of each mouse\n",
    "mouse_weight=mouse_grouped[\"Weight (g)\"].mean()\n",
    "#create a series for the average tumor volume of each mouse\n",
    "avg_tumor=mouse_grouped[\"Tumor Volume (mm3)\"].mean()\n",
    "\n",
    "#Calculate the linear regression values to be plotted against weight\n",
    "#(slope, intercept, rvalue, pvalue, stderr) = linregress(mouse_weight, avg_tumor)\n",
    "#regress_values = mouse_weight * slope + intercept\n",
    "#line_eq = \"y = \" + str(round(slope,2)) + \"x + \" + str(round(intercept,2))"
   ]
  },
  {
   "cell_type": "code",
   "execution_count": 407,
   "metadata": {
    "scrolled": true
   },
   "outputs": [
    {
     "name": "stdout",
     "output_type": "stream",
     "text": [
      "The r-squared is: 0.8419363424694718\n",
      "y = 0.95x + 21.55\n"
     ]
    },
    {
     "data": {
      "image/png": "[encoded data removed]",
      "text/plain": [
       "<Figure size 432x288 with 1 Axes>"
      ]
     },
     "metadata": {
      "needs_background": "light"
     },
     "output_type": "display_data"
    }
   ],
   "source": [
    "#Generate a scatter plot\n",
    "plt.scatter(mouse_weight,avg_tumor,marker=\"o\");\n",
    "plt.xlabel(\"Mouse Weight (g)\",weight=\"bold\");\n",
    "plt.ylabel(\"Tumor Size (mm3)\",weight=\"bold\");\n",
    "plt.title(\"Mouse Weight vs Tumor Size for Capomulin \",weight=\"bold\");\n",
    "\n",
    "# Calculate the correlation coefficient and linear regression model for mouse weight and average tumor volume for the Capomulin regimen\n",
    "#Calculate the linear regression values to be plotted against weight\n",
    "(slope, intercept, rvalue, pvalue, stderr) = linregress(mouse_weight, avg_tumor)\n",
    "regress_values = mouse_weight * slope + intercept\n",
    "line_eq = \"y = \" + str(round(slope,2)) + \"x + \" + str(round(intercept,2))\n",
    "\n",
    "#plot the regression values to form the regression line\n",
    "plt.plot(mouse_weight,regress_values,\"r-\")\n",
    "plt.annotate(line_eq,(20,36),fontsize=15,color=\"red\");\n",
    "\n",
    "print(f\"The r-squared is: {rvalue}\")\n",
    "print(line_eq)"
   ]
  },
  {
   "cell_type": "code",
   "execution_count": 11,
   "metadata": {},
   "outputs": [],
   "source": [
    " "
   ]
  },
  {
   "cell_type": "code",
   "execution_count": null,
   "metadata": {},
   "outputs": [],
   "source": []
  }
 ],
 "metadata": {
  "anaconda-cloud": {},
  "kernelspec": {
   "display_name": "Python [conda env:PythonData] *",
   "language": "python",
   "name": "conda-env-PythonData-py"
  },
  "language_info": {
   "codemirror_mode": {
    "name": "ipython",
    "version": 3
   },
   "file_extension": ".py",
   "mimetype": "text/x-python",
   "name": "python",
   "nbconvert_exporter": "python",
   "pygments_lexer": "ipython3",
   "version": "3.7.5"
  }
 },
 "nbformat": 4,
 "nbformat_minor": 2
}
